{
 "cells": [
  {
   "cell_type": "markdown",
   "id": "3fdbea08",
   "metadata": {},
   "source": [
    "### 🔁 Mixed If-Else + Dictionary Questions:\n",
    "Check if Student Passed\n",
    "Given a dictionary of student scores:\n",
    "\n",
    "`scores = {'Alice': 85, 'Bob': 37, 'Charlie': 60}`  \n",
    "\n",
    "Ask for a student's name, then print \"Pass\" if their score is 40 or more, else print \"Fail\"."
   ]
  },
  {
   "cell_type": "code",
   "execution_count": 1,
   "id": "c287c349",
   "metadata": {},
   "outputs": [
    {
     "name": "stdout",
     "output_type": "stream",
     "text": [
      "Alice is Pass\n",
      "Bob is Fail\n",
      "Charlie is Pass\n"
     ]
    }
   ],
   "source": [
    "\n",
    "scores = {'Alice': 85, 'Bob': 37, 'Charlie': 60}\n",
    "\n",
    "for key in scores:\n",
    "    std_score = scores[key] \n",
    "    if std_score >= 40:\n",
    "        print(f\"{key} is Pass\")\n",
    "    else:\n",
    "        print(f\"{key} is Fail\")\n",
    "        \n",
    "# new_dict = {key: \"Pass\" if value >= 40 else \"Fail\" for key,value in scores.items()} \n",
    "\n",
    "# print(new_dict)"
   ]
  },
  {
   "cell_type": "markdown",
   "id": "17ab4988",
   "metadata": {},
   "source": [
    "### Grade Evaluation\n",
    "` grades = {'A': 90, 'B': 80, 'C': 70}`  \n",
    "Ask the user for a grade letter and print the minimum score for that grade. If the letter is not in the dictionary, print \"Invalid grade\"."
   ]
  },
  {
   "cell_type": "code",
   "execution_count": 6,
   "id": "e9a12bd0",
   "metadata": {},
   "outputs": [
    {
     "name": "stdout",
     "output_type": "stream",
     "text": [
      "90\n"
     ]
    }
   ],
   "source": [
    "\n",
    "grades = {'A': 90, 'B': 80, 'C': 70}\n",
    "user = input(\"Enter grade:\").title()\n",
    "\n",
    "if user in grades:\n",
    "    print(f\"{grades[user]}\")\n",
    "else:\n",
    "    print(\"Invalid grades\")"
   ]
  },
  {
   "cell_type": "markdown",
   "id": "bd4341fe",
   "metadata": {},
   "source": [
    "#### Check Item in Inventory\n",
    "####  Given an inventory:\n",
    "\n",
    "`stock = {'apple': 10, 'banana': 5, 'orange': 0}`\n",
    "\n",
    "Ask the user for a fruit name. If it exists and stock > 0, print \"Available\". Otherwise, print \"Out of stock\" or \"Not found\"."
   ]
  },
  {
   "cell_type": "code",
   "execution_count": 8,
   "id": "2b1cf507",
   "metadata": {},
   "outputs": [
    {
     "name": "stdout",
     "output_type": "stream",
     "text": [
      "orange is Out of stock / Not found\n"
     ]
    }
   ],
   "source": [
    "stock = {'apple': 10, 'banana': 5, 'orange': 0}\n",
    "\n",
    "user_input = input(\"Enter the fruit name:\").lower()\n",
    "\n",
    "if user_input in stock and stock[user_input] > 0 :\n",
    "    print(f\"Available quantity of {user_input} is: {stock[user_input]}\")\n",
    "else:\n",
    "    print(f\"{user_input} is Out of stock / Not found\")"
   ]
  },
  {
   "cell_type": "markdown",
   "id": "a68c849f",
   "metadata": {},
   "source": [
    "### User Login System\n",
    "Store usernames and passwords in a dictionary. Ask for login info and use if-else to check if it matches."
   ]
  },
  {
   "cell_type": "code",
   "execution_count": null,
   "id": "d6cdeb46",
   "metadata": {},
   "outputs": [
    {
     "name": "stdout",
     "output_type": "stream",
     "text": [
      "Something Wrong\n",
      "Something Wrong\n",
      "web crash\n"
     ]
    }
   ],
   "source": [
    "login_data = {\"Arslan\":\"1234\",\"Abubakkar\":\"2345\"}\n",
    "\n",
    "user_name = input(\"Enter you username:\").capitalize()\n",
    "user_password = input(\"Enter you password\")\n",
    "\n",
    "for i in range(1,3):\n",
    "    if user_name in login_data.keys() and user_password == login_data[user_name]:\n",
    "        print(\"Login Successfully Welcome!\")\n",
    "        break\n",
    "    else:\n",
    "        print(\"Something Wrong\")\n",
    "        user_name = input(\"Enter you username:\").capitalize()\n",
    "        user_password = input(\"Enter you password\")\n",
    "else:\n",
    "    print(\"web crash\")"
   ]
  },
  {
   "cell_type": "markdown",
   "id": "87a0f9ea",
   "metadata": {},
   "source": [
    "### Discount Calculator\n",
    "#### Given a dictionary of item prices, check if the user entered item exists. If yes, apply 10% discount and print new price. Else, say \"Item not found\"."
   ]
  },
  {
   "cell_type": "code",
   "execution_count": null,
   "id": "cdc995f8",
   "metadata": {},
   "outputs": [],
   "source": [
    "item_dict = {\"item1\":100,\"item2\":200,\"item3\":300}\n",
    "num=int(input(\"How many items you want to buy?\"))\n",
    "sum_of_num = 0\n",
    "for i in range(1,num+1):\n",
    "    \n",
    "    user_input = input(f\"Enter item{i}:\")\n",
    "    if user_input in item_dict:\n",
    "        discount = item_dict[user_input] / 100 * 10\n",
    "        final_price = item_dict[user_input] - discount\n",
    "        print(f\"Disconted Price is {final_price}\")\n",
    "        sum_of_num += final_price\n",
    "    else:\n",
    "        print(\"Iteam Not found!\")\n",
    "print(f\"Total bill is: {sum_of_num}\")"
   ]
  }
 ],
 "metadata": {
  "kernelspec": {
   "display_name": "Python 3",
   "language": "python",
   "name": "python3"
  },
  "language_info": {
   "codemirror_mode": {
    "name": "ipython",
    "version": 3
   },
   "file_extension": ".py",
   "mimetype": "text/x-python",
   "name": "python",
   "nbconvert_exporter": "python",
   "pygments_lexer": "ipython3",
   "version": "3.12.9"
  }
 },
 "nbformat": 4,
 "nbformat_minor": 5
}
