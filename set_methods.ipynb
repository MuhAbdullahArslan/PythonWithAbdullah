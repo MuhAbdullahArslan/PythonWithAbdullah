{
 "cells": [
  {
   "cell_type": "code",
   "execution_count": 1,
   "id": "3f302df2",
   "metadata": {},
   "outputs": [
    {
     "name": "stdout",
     "output_type": "stream",
     "text": [
      "Hello World\n"
     ]
    }
   ],
   "source": [
    "print(\"Hello World\")"
   ]
  },
  {
   "cell_type": "markdown",
   "id": "b1bec89b",
   "metadata": {},
   "source": [
    "#### ✅ 1. add()  \n",
    "Adds a single element to the set"
   ]
  },
  {
   "cell_type": "code",
   "execution_count": 4,
   "id": "6bfe0533",
   "metadata": {},
   "outputs": [
    {
     "name": "stdout",
     "output_type": "stream",
     "text": [
      "Before Additon: {1, 2, 3}\n",
      "After Addition: {1, 2, 3, 4}\n"
     ]
    }
   ],
   "source": [
    "s = {1,2,3}\n",
    "print(f\"Before Additon: {s}\")\n",
    "s.add(4)\n",
    "print(f\"After Addition: {s}\")"
   ]
  },
  {
   "cell_type": "markdown",
   "id": "4ada095b",
   "metadata": {},
   "source": [
    "#### ✅ 2. clear()\n",
    "Removes all elements from the set."
   ]
  },
  {
   "cell_type": "code",
   "execution_count": 6,
   "id": "0a8cd781",
   "metadata": {},
   "outputs": [
    {
     "name": "stdout",
     "output_type": "stream",
     "text": [
      "Befor clear(): {1, 2, 3, 4}\n",
      "Length of item in set: 4\n",
      "After clear(): set()\n",
      "Length of item in set: 0\n"
     ]
    }
   ],
   "source": [
    "s = {1,2,3,4}\n",
    "print(f\"Befor clear(): {s}\\nLength of item in set: {len(s)}\")\n",
    "s.clear()\n",
    "print(f\"After clear(): {s}\\nLength of item in set: {len(s)}\")"
   ]
  },
  {
   "cell_type": "markdown",
   "id": "cc622298",
   "metadata": {},
   "source": [
    "#### ✅ 3. copy()\n",
    "Returns a shallow copy of the set."
   ]
  },
  {
   "cell_type": "code",
   "execution_count": 10,
   "id": "0bdc99a1",
   "metadata": {},
   "outputs": [
    {
     "name": "stdout",
     "output_type": "stream",
     "text": [
      "Orignal copy: {1, 2, 3, 4}\n",
      "shallow copy: {1, 2, 3, 4, 5}\n"
     ]
    }
   ],
   "source": [
    "s = {1,2,3,4}\n",
    "c = s.copy()\n",
    "c.add(5)\n",
    "print(f\"Orignal copy: {s}\")\n",
    "print(f\"shallow copy: {c}\")"
   ]
  },
  {
   "cell_type": "markdown",
   "id": "014910d2",
   "metadata": {},
   "source": [
    "#### ✅ 4. difference()\n",
    "Returns elements in one set but not in another."
   ]
  },
  {
   "cell_type": "code",
   "execution_count": 15,
   "id": "3dd0e139",
   "metadata": {},
   "outputs": [
    {
     "name": "stdout",
     "output_type": "stream",
     "text": [
      "Difference between {1, 2, 3, 4} and {3, 4, 5, 6} = {1, 2}\n",
      "Difference between {3, 4, 5, 6} and {1, 2, 3, 4} = {5, 6}\n",
      "{1, 2, 3, 4} - {3, 4, 5, 6} = {1, 2}\n",
      "{3, 4, 5, 6} - {1, 2, 3, 4} = {5, 6}\n"
     ]
    }
   ],
   "source": [
    "s1 = {1,2,3,4}\n",
    "s2 = {3,4,5,6}\n",
    "\n",
    "print(f\"Difference between {s1} and {s2} = {s1.difference(s2)}\")\n",
    "print(f\"Difference between {s2} and {s1} = {s2.difference(s1)}\")\n",
    "\n",
    "print(f\"{s1} - {s2} = {s1 - s2}\")\n",
    "print(f\"{s2} - {s1} = {s2 - s1}\")"
   ]
  },
  {
   "cell_type": "markdown",
   "id": "fb5c07ff",
   "metadata": {},
   "source": [
    "#### ✅ 5. difference_update()\n",
    "Removes elements found in another set from the original set."
   ]
  },
  {
   "cell_type": "code",
   "execution_count": 22,
   "id": "89a1fd6f",
   "metadata": {},
   "outputs": [
    {
     "name": "stdout",
     "output_type": "stream",
     "text": [
      "Before Difference_update {1, 2, 3, 4}\n",
      "Before Difference_update = {3, 4, 5, 6}\n",
      "After Difference_update {1, 2}\n",
      "After Difference_update = {3, 4, 5, 6}\n"
     ]
    }
   ],
   "source": [
    "s1 = {1,2,3,4}\n",
    "s2 = {3,4,5,6}\n",
    "print(f\"Before Difference_update {s1}\")\n",
    "print(f\"Before Difference_update = {s2}\")\n",
    "s1.difference_update(s2)\n",
    "s2.difference_update(s1)\n",
    "\n",
    "print(f\"After Difference_update {s1}\")\n",
    "print(f\"After Difference_update = {s2}\")\n",
    "\n"
   ]
  },
  {
   "cell_type": "markdown",
   "id": "b96e3cea",
   "metadata": {},
   "source": [
    "#### ✅ 6. discard()\n",
    "Removes a specified element. Does nothing if the element doesn't exist."
   ]
  },
  {
   "cell_type": "code",
   "execution_count": 26,
   "id": "03345f94",
   "metadata": {},
   "outputs": [
    {
     "name": "stdout",
     "output_type": "stream",
     "text": [
      "{1, 3, 4}\n",
      "{1, 3, 4}\n"
     ]
    }
   ],
   "source": [
    "s = {1,2,3,4}\n",
    "s.discard(2)\n",
    "print(s)\n",
    "s.discard(5)\n",
    "print(s)"
   ]
  },
  {
   "cell_type": "markdown",
   "id": "e84f0280",
   "metadata": {},
   "source": [
    "#### ✅ 7. intersection()\n",
    "Returns elements common to both sets."
   ]
  },
  {
   "cell_type": "code",
   "execution_count": 31,
   "id": "22f4b6e2",
   "metadata": {},
   "outputs": [
    {
     "name": "stdout",
     "output_type": "stream",
     "text": [
      "Intersection of {1, 2, 3, 4, 5} and {5, 6, 7, 8, 9} = {5}\n",
      "{1, 2, 3, 4, 5} & {5, 6, 7, 8, 9} = {5}\n"
     ]
    }
   ],
   "source": [
    "s1 = {1,2,3,4,5}\n",
    "s2 = {5,6,7,8,9}\n",
    "\n",
    "print(f\"Intersection of {s1} and {s2} = {s1.intersection(s2)}\") #return common to both sets\n",
    "print(f\"{s1} & {s2} = {s1 & s2}\")"
   ]
  },
  {
   "cell_type": "markdown",
   "id": "e7a65c8a",
   "metadata": {},
   "source": [
    "#### ✅ 8. intersection_update()\n",
    "Keeps only elements found in both sets."
   ]
  },
  {
   "cell_type": "code",
   "execution_count": 35,
   "id": "a65cb69c",
   "metadata": {},
   "outputs": [
    {
     "name": "stdout",
     "output_type": "stream",
     "text": [
      "Before Intersection_update of {1, 2, 3, 4, 5} and {5, 6, 7, 8, 9}\n",
      "After Intersection_update of {5}\n"
     ]
    }
   ],
   "source": [
    "s1 = {1,2,3,4,5}\n",
    "s2 = {5,6,7,8,9}\n",
    "print(f\"Before Intersection_update of {s1} and {s2}\") #return common to both sets\n",
    "s1.intersection_update(s2)\n",
    "print(f\"After Intersection_update of {s1}\") #return common to both sets"
   ]
  },
  {
   "cell_type": "markdown",
   "id": "62d07697",
   "metadata": {},
   "source": [
    "#### ✅ 9. isdisjoint()\n",
    "Returns True if two sets have no elements in common."
   ]
  },
  {
   "cell_type": "code",
   "execution_count": 38,
   "id": "40ccd639",
   "metadata": {},
   "outputs": [
    {
     "name": "stdout",
     "output_type": "stream",
     "text": [
      "True\n"
     ]
    }
   ],
   "source": [
    "s1 = {1,2,3,4,5}\n",
    "s2 = {8,9,6,7}\n",
    "\n",
    "print(s1.isdisjoint(s2))"
   ]
  },
  {
   "cell_type": "markdown",
   "id": "bd08ad76",
   "metadata": {},
   "source": [
    "#### ✅ 10. issubset()\n",
    "Returns True if all elements of one set are in another."
   ]
  },
  {
   "cell_type": "code",
   "execution_count": 39,
   "id": "95fc7c7e",
   "metadata": {},
   "outputs": [
    {
     "name": "stdout",
     "output_type": "stream",
     "text": [
      "True\n"
     ]
    }
   ],
   "source": [
    "s1 = {1,2,3,4,5}\n",
    "s2 = {1,2,3,4,5,6,7,8,9}\n",
    "\n",
    "print(s1.issubset(s2))"
   ]
  },
  {
   "cell_type": "markdown",
   "id": "babdc3fe",
   "metadata": {},
   "source": [
    "##### ✅ 11. issuperset()\n",
    "Returns True if the set contains all elements of another set."
   ]
  },
  {
   "cell_type": "code",
   "execution_count": 40,
   "id": "1e7ac6f9",
   "metadata": {},
   "outputs": [
    {
     "name": "stdout",
     "output_type": "stream",
     "text": [
      "True\n"
     ]
    }
   ],
   "source": [
    "s1 = {1,2,3,4,5}\n",
    "s2 = {1,2,3}\n",
    "print(s1.issuperset(s2))"
   ]
  },
  {
   "cell_type": "markdown",
   "id": "e8ff5d90",
   "metadata": {},
   "source": [
    "##### ✅ 12. pop()\n",
    "Removes and returns an arbitrary element."
   ]
  },
  {
   "cell_type": "code",
   "execution_count": 52,
   "id": "bf4a5bd5",
   "metadata": {},
   "outputs": [
    {
     "name": "stdout",
     "output_type": "stream",
     "text": [
      "{2, 3, 4, 5, 6, 7}\n",
      "Pop 2 Now Set look like: {3, 4, 5, 6, 7}\n"
     ]
    }
   ],
   "source": [
    "s1 = {2,3,4,5,6,7}\n",
    "print(s1)\n",
    "r_item=s1.pop()\n",
    "print(f\"Pop {r_item} Now Set look like: {s1}\")"
   ]
  },
  {
   "cell_type": "markdown",
   "id": "1bf4d86d",
   "metadata": {},
   "source": [
    "##### ✅ 13. remove()\n",
    "Removes a specific element. Raises an error if not found."
   ]
  },
  {
   "cell_type": "code",
   "execution_count": null,
   "id": "b84af5b9",
   "metadata": {},
   "outputs": [
    {
     "name": "stdout",
     "output_type": "stream",
     "text": [
      "{1, 2, 3, 4, 5, 6}\n",
      "{1, 2, 4, 5, 6}\n"
     ]
    },
    {
     "ename": "KeyError",
     "evalue": "9",
     "output_type": "error",
     "traceback": [
      "\u001b[31m---------------------------------------------------------------------------\u001b[39m",
      "\u001b[31mKeyError\u001b[39m                                  Traceback (most recent call last)",
      "\u001b[36mCell\u001b[39m\u001b[36m \u001b[39m\u001b[32mIn[54]\u001b[39m\u001b[32m, line 5\u001b[39m\n\u001b[32m      3\u001b[39m s1.remove(\u001b[32m3\u001b[39m)\n\u001b[32m      4\u001b[39m \u001b[38;5;28mprint\u001b[39m(s1)\n\u001b[32m----> \u001b[39m\u001b[32m5\u001b[39m \u001b[43ms1\u001b[49m\u001b[43m.\u001b[49m\u001b[43mremove\u001b[49m\u001b[43m(\u001b[49m\u001b[32;43m9\u001b[39;49m\u001b[43m)\u001b[49m\n",
      "\u001b[31mKeyError\u001b[39m: 9"
     ]
    }
   ],
   "source": [
    "s1 = {1,2,3,4,5,6}\n",
    "print(s1)\n",
    "s1.remove(3)\n",
    "print(s1)\n",
    "s1.remove(9) # raise error if not founded"
   ]
  },
  {
   "cell_type": "markdown",
   "id": "79b87eb8",
   "metadata": {},
   "source": [
    "#### ✅ 14. symmetric_difference()\n",
    "Returns elements in either set, but not in both."
   ]
  },
  {
   "cell_type": "code",
   "execution_count": 55,
   "id": "d835dc45",
   "metadata": {},
   "outputs": [
    {
     "name": "stdout",
     "output_type": "stream",
     "text": [
      "{1, 2, 3, 4, 5, 6}\n"
     ]
    }
   ],
   "source": [
    "s1 = {1,2,3,4,5,6}\n",
    "s2 = {3,4,5,6,7,8}\n",
    "\n",
    "s1.symmetric_difference(s2)\n",
    "print(s1)"
   ]
  },
  {
   "cell_type": "markdown",
   "id": "e1f6422d",
   "metadata": {},
   "source": [
    "#### ✅ 15. symmetric_difference_update()\n",
    "Updates the set with elements that are in either, but not both."
   ]
  },
  {
   "cell_type": "code",
   "execution_count": 56,
   "id": "974e855c",
   "metadata": {},
   "outputs": [
    {
     "name": "stdout",
     "output_type": "stream",
     "text": [
      "{1, 2, 4}\n"
     ]
    }
   ],
   "source": [
    "a = {1, 2, 3}\n",
    "b = {3, 4}\n",
    "a.symmetric_difference_update(b)\n",
    "print(a)  # {1, 2, 4}"
   ]
  },
  {
   "cell_type": "markdown",
   "id": "3c006429",
   "metadata": {},
   "source": [
    "#### ✅ 16. union()\n",
    "Returns all unique elements from both sets."
   ]
  },
  {
   "cell_type": "code",
   "execution_count": 60,
   "id": "19d7f771",
   "metadata": {},
   "outputs": [
    {
     "name": "stdout",
     "output_type": "stream",
     "text": [
      "{1, 2, 3}\n"
     ]
    }
   ],
   "source": [
    "a = {1, 2}\n",
    "b = {2, 3}\n",
    "print(a.union(b)) "
   ]
  },
  {
   "cell_type": "markdown",
   "id": "ac8ac8c0",
   "metadata": {},
   "source": [
    "#### ✅ 17. update()\n",
    "Adds elements from another set (or iterable) into the set."
   ]
  },
  {
   "cell_type": "code",
   "execution_count": 59,
   "id": "f664c7ab",
   "metadata": {},
   "outputs": [
    {
     "name": "stdout",
     "output_type": "stream",
     "text": [
      "{1, 2, 3}\n"
     ]
    }
   ],
   "source": [
    "a = {1, 2}\n",
    "b = {2, 3}\n",
    "a.update(b)\n",
    "print(a)  "
   ]
  },
  {
   "cell_type": "code",
   "execution_count": null,
   "id": "dd74d52c",
   "metadata": {},
   "outputs": [],
   "source": []
  }
 ],
 "metadata": {
  "kernelspec": {
   "display_name": "Python 3",
   "language": "python",
   "name": "python3"
  },
  "language_info": {
   "codemirror_mode": {
    "name": "ipython",
    "version": 3
   },
   "file_extension": ".py",
   "mimetype": "text/x-python",
   "name": "python",
   "nbconvert_exporter": "python",
   "pygments_lexer": "ipython3",
   "version": "3.12.9"
  }
 },
 "nbformat": 4,
 "nbformat_minor": 5
}
